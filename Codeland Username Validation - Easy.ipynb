{
 "cells": [
  {
   "cell_type": "markdown",
   "metadata": {},
   "source": [
    "# Codeland Username Validation - Easy"
   ]
  },
  {
   "cell_type": "markdown",
   "metadata": {},
   "source": [
    "**Codeland Username Validation**\n",
    "Have the function `CodelandUsernameValidation(str)` take the `str` parameter being passed and determine if the string is a valid username according to the following rules:\n",
    "\n",
    "1. The username is between 4 and 25 characters.\n",
    "2. It must start with a letter.\n",
    "3. It can only contain letters, numbers, and the underscore character.\n",
    "4. It cannot end with an underscore character.\n",
    "\n",
    "If the username is valid then your program should return the string **true**, otherwise return the string **false**."
   ]
  },
  {
   "cell_type": "code",
   "execution_count": null,
   "metadata": {},
   "outputs": [],
   "source": [
    "def CodelandUsernameValidation(strParam):\n",
    "\n",
    "  # code goes here\n",
    "\n",
    "  if (4 <= len(strParam) <= 25) and strParam[0].isalpha() and (strParam[-1] != '_') and (strParam.isalnum() or ('_' in strParam)):\n",
    "    return True\n",
    "  else:\n",
    "    return False\n",
    "\n",
    "# keep this function call here \n",
    "print(CodelandUsernameValidation(input()))"
   ]
  }
 ],
 "metadata": {
  "kernelspec": {
   "display_name": "Python 3",
   "language": "python",
   "name": "python3"
  },
  "language_info": {
   "codemirror_mode": {
    "name": "ipython",
    "version": 3
   },
   "file_extension": ".py",
   "mimetype": "text/x-python",
   "name": "python",
   "nbconvert_exporter": "python",
   "pygments_lexer": "ipython3",
   "version": "3.8.5"
  }
 },
 "nbformat": 4,
 "nbformat_minor": 4
}
