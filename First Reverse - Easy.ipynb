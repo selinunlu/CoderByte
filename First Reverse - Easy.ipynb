{
 "cells": [
  {
   "cell_type": "markdown",
   "metadata": {},
   "source": [
    "# First Reverse - Easy"
   ]
  },
  {
   "cell_type": "markdown",
   "metadata": {},
   "source": [
    "Have the function `FirstReverse(str)` take the `str` parameter being passed and return the string in reversed order. For example: if the input string is \"Hello World and Coders\" then your program should return the string **sredoC dna dlroW olleH**."
   ]
  },
  {
   "cell_type": "code",
   "execution_count": null,
   "metadata": {},
   "outputs": [],
   "source": [
    "def FirstReverse(strParam):\n",
    "\n",
    "  # code goes here\n",
    "  strParam = strParam[::-1]\n",
    "  return strParam\n",
    "\n",
    "# keep this function call here \n",
    "print(FirstReverse(input()))"
   ]
  }
 ],
 "metadata": {
  "kernelspec": {
   "display_name": "Python 3",
   "language": "python",
   "name": "python3"
  },
  "language_info": {
   "codemirror_mode": {
    "name": "ipython",
    "version": 3
   },
   "file_extension": ".py",
   "mimetype": "text/x-python",
   "name": "python",
   "nbconvert_exporter": "python",
   "pygments_lexer": "ipython3",
   "version": "3.8.5"
  }
 },
 "nbformat": 4,
 "nbformat_minor": 4
}
