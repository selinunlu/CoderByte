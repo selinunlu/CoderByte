{
 "cells": [
  {
   "cell_type": "markdown",
   "metadata": {},
   "source": [
    "# First Factorial - Easy"
   ]
  },
  {
   "cell_type": "markdown",
   "metadata": {},
   "source": [
    "Have the function `FirstFactorial(num)` take the `num` parameter being passed and return the factorial of it. For example: if `num = 4`, then your program should return **(4 * 3 * 2 * 1)** = 24. For the test cases, the range will be between 1 and 18 and the input will always be an integer."
   ]
  },
  {
   "cell_type": "code",
   "execution_count": null,
   "metadata": {},
   "outputs": [],
   "source": [
    "def FirstFactorial(num):\n",
    "\n",
    "  # code goes here\n",
    "  factorial = 1\n",
    "\n",
    "  if num < 0:\n",
    "    factorial = 1\n",
    "\n",
    "  elif num == 1:\n",
    "    factorial = 1\n",
    "\n",
    "  else:  \n",
    "    for i in range(1, num+1):\n",
    "      factorial = factorial * i\n",
    "\n",
    "  return factorial\n",
    "\n",
    "# keep this function call here \n",
    "print(FirstFactorial(input()))"
   ]
  }
 ],
 "metadata": {
  "kernelspec": {
   "display_name": "Python 3",
   "language": "python",
   "name": "python3"
  },
  "language_info": {
   "codemirror_mode": {
    "name": "ipython",
    "version": 3
   },
   "file_extension": ".py",
   "mimetype": "text/x-python",
   "name": "python",
   "nbconvert_exporter": "python",
   "pygments_lexer": "ipython3",
   "version": "3.8.5"
  }
 },
 "nbformat": 4,
 "nbformat_minor": 4
}
