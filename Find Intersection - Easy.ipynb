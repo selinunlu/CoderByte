{
 "cells": [
  {
   "cell_type": "markdown",
   "metadata": {},
   "source": [
    "# Find Intersection - Easy"
   ]
  },
  {
   "cell_type": "markdown",
   "metadata": {},
   "source": [
    "Have the function `FindIntersection(strArr)` read the array of strings stored in `strArr` which will contain 2 elements: the first element will represent a list of comma-separated numbers sorted in ascending order, the second element will represent a second list of comma-separated numbers (also sorted). Your goal is to return a comma-separated string containing the numbers that occur in elements of `strArr` in sorted order. If there is no intersection, return the string **false**."
   ]
  },
  {
   "cell_type": "code",
   "execution_count": null,
   "metadata": {},
   "outputs": [],
   "source": [
    "def FindIntersection(strArr):\n",
    "\n",
    "  # code goes here\n",
    "  a = []\n",
    "\n",
    "  for i in strArr[0].split(\", \"):\n",
    "    if i in strArr[1].split(\", \"):\n",
    "      a.append(i)\n",
    "\n",
    "  return \",\".join(a)\n",
    "\n",
    "# keep this function call here \n",
    "print(FindIntersection(input()))"
   ]
  },
  {
   "cell_type": "code",
   "execution_count": null,
   "metadata": {},
   "outputs": [],
   "source": [
    "  for x in products:\n",
    "        item = x\n",
    "        tekrar = 0\n",
    "        \n",
    "        d = {}\n",
    "        \n",
    "        for i in range(len(products)):\n",
    "            if products[i] == item:\n",
    "                tekrar = tekrar + 1\n",
    "                \n",
    "        k,v = (item, tekrar)\n",
    "        if (k,v) not in l:\n",
    "            l.append((k,v)) \n",
    "        \n",
    "        print(l)\n",
    "        "
   ]
  }
 ],
 "metadata": {
  "kernelspec": {
   "display_name": "Python 3",
   "language": "python",
   "name": "python3"
  },
  "language_info": {
   "codemirror_mode": {
    "name": "ipython",
    "version": 3
   },
   "file_extension": ".py",
   "mimetype": "text/x-python",
   "name": "python",
   "nbconvert_exporter": "python",
   "pygments_lexer": "ipython3",
   "version": "3.8.5"
  }
 },
 "nbformat": 4,
 "nbformat_minor": 4
}
