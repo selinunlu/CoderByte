{
 "cells": [
  {
   "cell_type": "markdown",
   "metadata": {},
   "source": [
    "# Questions Marks - Easy"
   ]
  },
  {
   "cell_type": "markdown",
   "metadata": {},
   "source": [
    "Have the function `QuestionsMarks(str)` take the `str` string parameter, which will contain single digit numbers, letters, and question marks, and check if there are exactly 3 question marks between every pair of two numbers that add up to 10. If so, then your program should return the string **true**, otherwise it should return the string **false**. If there aren't any two numbers that add up to 10 in the string, then your program should return **false** as well.\n",
    "\n",
    "For example: if `str` is \"arrb6???4xxbl5???eee5\" then your program should return **true** because there are exactly 3 question marks between 6 and 4, and 3 question marks between 5 and 5 at the end of the string."
   ]
  },
  {
   "cell_type": "code",
   "execution_count": null,
   "metadata": {},
   "outputs": [],
   "source": [
    "def QuestionsMarks(strParam):\n",
    "\n",
    "  # code goes here\n",
    "  qnumber = 0\n",
    "  digit = 0\n",
    "  has_10 = False\n",
    "\n",
    "  for i in strParam:\n",
    "\n",
    "    if i.isdigit():\n",
    "      if int(i) + digit == 10:\n",
    "        if qnumber != 3:\n",
    "          return 'false'\n",
    "        has_10 = True\n",
    "      digit = int(i)\n",
    "      qnumber = 0\n",
    "        \n",
    "    elif i == '?':\n",
    "      qnumber += 1\n",
    "\n",
    "  return 'true' if has_10 else 'false'\n",
    "    \n",
    "# keep this function call here \n",
    "print(QuestionsMarks(input()))\n",
    "            "
   ]
  }
 ],
 "metadata": {
  "kernelspec": {
   "display_name": "Python 3",
   "language": "python",
   "name": "python3"
  },
  "language_info": {
   "codemirror_mode": {
    "name": "ipython",
    "version": 3
   },
   "file_extension": ".py",
   "mimetype": "text/x-python",
   "name": "python",
   "nbconvert_exporter": "python",
   "pygments_lexer": "ipython3",
   "version": "3.8.5"
  }
 },
 "nbformat": 4,
 "nbformat_minor": 4
}
