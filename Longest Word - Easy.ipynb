{
 "cells": [
  {
   "cell_type": "markdown",
   "metadata": {},
   "source": [
    "# Longest Word - Easy"
   ]
  },
  {
   "cell_type": "markdown",
   "metadata": {},
   "source": [
    "Have the function `LongestWord(sen)` take `sen` parameter being passed and return the longest word in the string. If there are two or more words that are the same length, return the first word from the string with that length. Ignore punctuation and assume `sen` will not be empty. Words may also contain numbers, for example \"Hello world123 567\""
   ]
  },
  {
   "cell_type": "code",
   "execution_count": null,
   "metadata": {},
   "outputs": [],
   "source": [
    "def LongestWord(sen):\n",
    "\n",
    "  # code goes here\n",
    "\n",
    "  words = ''\n",
    "  for i in sen:    \n",
    "    if i.isalpha()==True or i==\" \":\n",
    "        words += i\n",
    "  words = words.split()\n",
    "\n",
    "  maks = ''\n",
    "  for word in words:\n",
    "    if len(word) > len(maks):\n",
    "        maks = word\n",
    "    \n",
    "  #maks = max(b,key=len)\n",
    "\n",
    "  return maks\n",
    "\n",
    "# keep this function call here \n",
    "print(LongestWord(input()))"
   ]
  }
 ],
 "metadata": {
  "kernelspec": {
   "display_name": "Python 3",
   "language": "python",
   "name": "python3"
  },
  "language_info": {
   "codemirror_mode": {
    "name": "ipython",
    "version": 3
   },
   "file_extension": ".py",
   "mimetype": "text/x-python",
   "name": "python",
   "nbconvert_exporter": "python",
   "pygments_lexer": "ipython3",
   "version": "3.8.5"
  }
 },
 "nbformat": 4,
 "nbformat_minor": 4
}
